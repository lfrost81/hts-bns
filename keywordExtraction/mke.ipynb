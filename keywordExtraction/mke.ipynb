{
 "cells": [
  {
   "cell_type": "code",
   "execution_count": 25,
   "metadata": {},
   "outputs": [],
   "source": [
    "from gensim import corpora, models\n",
    "import gensim\n",
    "from beans import Beans, Bean"
   ]
  },
  {
   "cell_type": "code",
   "execution_count": 26,
   "metadata": {},
   "outputs": [],
   "source": [
    "field = [\n",
    "    (\"DOCID\", \"docid\", \"text\", \"primary key\"), \\\n",
    "    (\"DATE\", \"date\", \"int\"), \\\n",
    "    (\"URL\", \"url\", \"text\"), \\\n",
    "    (\"CATEGORY\", \"category\", \"text\"), \\\n",
    "    (\"TITLE\", \"title\", \"text\"), \\\n",
    "    (\"SNIPPET\", \"snippet\", \"text\"), \\\n",
    "    (\"CONTENT\", \"content\", \"text\"), \\\n",
    "    (\"SEQ\", \"token\", \"text\") \\\n",
    "    ]"
   ]
  },
  {
   "cell_type": "code",
   "execution_count": 27,
   "metadata": {},
   "outputs": [
    {
     "ename": "ModuleNotFoundError",
     "evalue": "No module named 'demitasse2'",
     "output_type": "error",
     "traceback": [
      "\u001b[0;31m---------------------------------------------------------------------------\u001b[0m",
      "\u001b[0;31mModuleNotFoundError\u001b[0m                       Traceback (most recent call last)",
      "\u001b[0;32m<ipython-input-27-b2eea307d84d>\u001b[0m in \u001b[0;36m<module>\u001b[0;34m()\u001b[0m\n\u001b[0;32m----> 1\u001b[0;31m \u001b[0;32mfrom\u001b[0m \u001b[0mdemitasse2\u001b[0m \u001b[0;32mimport\u001b[0m \u001b[0mDemitasse\u001b[0m\u001b[0;34m\u001b[0m\u001b[0m\n\u001b[0m",
      "\u001b[0;31mModuleNotFoundError\u001b[0m: No module named 'demitasse2'"
     ]
    }
   ],
   "source": [
    "from demitasse2 import Demitasse"
   ]
  },
  {
   "cell_type": "code",
   "execution_count": 168,
   "metadata": {},
   "outputs": [],
   "source": [
    "project_path = \"/Users/jalee/work/git/hts-bns/keywordExtraction/data/beans\""
   ]
  },
  {
   "cell_type": "code",
   "execution_count": 169,
   "metadata": {},
   "outputs": [],
   "source": [
    "params = [0,\"jalee\",project_path,project_path,300,100,2,8]"
   ]
  },
  {
   "cell_type": "code",
   "execution_count": 170,
   "metadata": {},
   "outputs": [
    {
     "name": "stdout",
     "output_type": "stream",
     "text": [
      "Running Infomation\n",
      "programName=[0]\n",
      "resultModelName=[jalee]\n",
      "filePath=[/Users/jalee/work/git/hts-bns/keywordExtraction/data/beans]\n",
      "outputFilePath=[/Users/jalee/work/git/hts-bns/keywordExtraction/data/beans]\n",
      "epoch=[300]\n",
      "d_size=[100]\n",
      "window_size=[2]\n",
      "worker_num=[8]\n",
      "modelName=[/Users/jalee/work/git/hts-bns/keywordExtraction/data/beans/jalee_d100_e300_w2.word2vec]\n"
     ]
    }
   ],
   "source": [
    "# False : DB 를 초기화하지 않는다.\n",
    "demitasse = Demitasse( params, False )"
   ]
  },
  {
   "cell_type": "code",
   "execution_count": 171,
   "metadata": {},
   "outputs": [],
   "source": [
    "demitasse.load_model()"
   ]
  },
  {
   "cell_type": "code",
   "execution_count": 172,
   "metadata": {},
   "outputs": [],
   "source": [
    "demitasse.load_dv()"
   ]
  },
  {
   "cell_type": "code",
   "execution_count": 17,
   "metadata": {},
   "outputs": [
    {
     "name": "stdout",
     "output_type": "stream",
     "text": [
      "==========Main Keyword Extractor==========\n"
     ]
    }
   ],
   "source": [
    "print(\"=\" * 10 + \"Main Keyworfrom demitasse2 import Demitasse\n",
    "\n",
    "project_path = \"/Users/jalee/work/git/hts-bns/keywordExtraction/data/beans\"\n",
    "\n",
    "params = [0,\"jalee\",project_path,project_path,300,100,2,8]\n",
    "\n",
    "# False : DB 를 초기화하지 않는다.\n",
    "demitasse = Demitasse( params, False )\n",
    "\n",
    "demitasse.load_model()\n",
    "\n",
    "demitasse.load_dv()d Extractor\" + \"=\" * 10)"
   ]
  },
  {
   "cell_type": "code",
   "execution_count": 18,
   "metadata": {},
   "outputs": [],
   "source": [
    "bean = Beans()"
   ]
  },
  {
   "cell_type": "code",
   "execution_count": 19,
   "metadata": {},
   "outputs": [
    {
     "data": {
      "text/plain": [
       "(0, 'No Error')"
      ]
     },
     "execution_count": 19,
     "metadata": {},
     "output_type": "execute_result"
    }
   ],
   "source": [
    "bean.init(\"./data/beans_komoran\", field, False)"
   ]
  },
  {
   "cell_type": "code",
   "execution_count": 20,
   "metadata": {},
   "outputs": [
    {
     "data": {
      "text/plain": [
       "(0, 'No Error')"
      ]
     },
     "execution_count": 20,
     "metadata": {},
     "output_type": "execute_result"
    }
   ],
   "source": [
    "bean.read_file()"
   ]
  },
  {
   "cell_type": "code",
   "execution_count": 21,
   "metadata": {},
   "outputs": [],
   "source": [
    "result = bean.executeQuery(\"select token from document\")"
   ]
  },
  {
   "cell_type": "code",
   "execution_count": 22,
   "metadata": {},
   "outputs": [],
   "source": [
    "documents = [ list(c) for c in zip(*result) ][0]"
   ]
  },
  {
   "cell_type": "code",
   "execution_count": 23,
   "metadata": {},
   "outputs": [
    {
     "name": "stdout",
     "output_type": "stream",
     "text": [
      "매장/N 속옷/N _SEP_ 저가/N 속옷/N 브랜드/N 브랜드/N 지나가다/V 토요일/N 하루/N 저희/N 사무실/N 이사/N 방문/N 해주다/V 홍대/N 런칭/N 하다/V 신다/V 강남/N 해도/N 강남역/N 강남/N 고속버스/N 만도/N 되다/V 인기/N 정말/N 사랑/N 듬뿍/N 받다/V 소위/N 언더웨어/N 인기/N 순위/N 일컫/N 브랜드/N 랍니/N 매장/N 아직/N 홍대/N 욕심/N 나기/N 시작/N 하다/V 홍대/N 메인/N 드리다/V 접근성/N 아주/N 쉬다/V 않다/V 임대/N 비용/N 정말/N 않다/V 기본/N 상식/N 업계/N 오래/N 되다/V 베타/N 이신/N 가지/N 매장/N 하나/N 집다/V 역시/N 안목/N 최상급/N 셨답/N 집다/V 매장/N 자랑/N 여기/N 여기/N 사진/N 노출/N 시키다/V 매장/N 정보/N 너무나/N 매혹/N 조건/N 소개/N 하다/V 하다/V 조건/N 알다/V 누구/N 해보다/V 충동/N 느끼다/V 겁니다/V 우선/N 운영/N 하다/V 하다/V 회사/N 제시/N 하다/V 조건/N 알다/V 드리다/V 운영/N 하다/V 프랜차이즈/N 점주/N 드리다/V 조건/N 판매/N 마진/N 임대/N 비용/N 보증금/N 권리금/N 억이/N 들다/V 경우/N 만원/N 지급/N 인테리어/N 비용/N 기준/N 만원/N 본사/N 서비스/N 지원/N 번품/N 교환/N 자다/V 되다/V 매장/N 투자/N 대한/N 일부/N 보상/N 교육/N 되다/V 회사/N 지원/N 물론/N 인권/N 비다/V 점주/N 지불/N 정말/N 조건/N 이사/N 선정/N 하다/V 베스트/N 매장/N 임대/N 조건/N 소개/N 하다/V 매장/N 판매점/N 유동/N 구가/N 홍대/N 최고/N 거리/N 위치/N 하다/V 정문/N 통로/N 셋길/N 위치/N 하다/V 보증금/N 월세/N 권리금/N 실투/N 자금/N 임대/N 비용/N 인테리어/N 비용/N 만원/N 총투/N 천만/N 정도/N 본사/N 월세/N 늘다/V 무조건/N 보장/N 해주다/V 조건/N 판매/N 늘다/V 순수/N 이익/N 건지다/V 어디/N 투자/N 수익률/N 이상/N 추다/V 않다/V 신촌/N 대거/N 성공/N 하다/V 망성/N 리지/N 말다/V 기회/N 잡다/V\n"
     ]
    }
   ],
   "source": [
    "print (documents[0])"
   ]
  },
  {
   "cell_type": "code",
   "execution_count": null,
   "metadata": {},
   "outputs": [],
   "source": []
  }
 ],
 "metadata": {
  "kernelspec": {
   "display_name": "Python 3",
   "language": "python",
   "name": "python3"
  },
  "language_info": {
   "codemirror_mode": {
    "name": "ipython",
    "version": 3
   },
   "file_extension": ".py",
   "mimetype": "text/x-python",
   "name": "python",
   "nbconvert_exporter": "python",
   "pygments_lexer": "ipython3",
   "version": "3.6.2"
  }
 },
 "nbformat": 4,
 "nbformat_minor": 2
}
